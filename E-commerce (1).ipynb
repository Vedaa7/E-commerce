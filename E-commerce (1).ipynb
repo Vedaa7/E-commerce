{
 "cells": [
  {
   "cell_type": "code",
   "execution_count": 1,
   "id": "b921d241",
   "metadata": {
    "_cell_guid": "b1076dfc-b9ad-4769-8c92-a6c4dae69d19",
    "_uuid": "8f2839f25d086af736a60e9eeb907d3b93b6e0e5",
    "execution": {
     "iopub.execute_input": "2023-04-01T10:33:58.053242Z",
     "iopub.status.busy": "2023-04-01T10:33:58.052849Z",
     "iopub.status.idle": "2023-04-01T10:33:58.063819Z",
     "shell.execute_reply": "2023-04-01T10:33:58.062944Z"
    },
    "papermill": {
     "duration": 0.022229,
     "end_time": "2023-04-01T10:33:58.066329",
     "exception": false,
     "start_time": "2023-04-01T10:33:58.044100",
     "status": "completed"
    },
    "tags": []
   },
   "outputs": [
    {
     "name": "stdout",
     "output_type": "stream",
     "text": [
      "/kaggle/input/e-commerce-shoppers-behaviour-understanding/test_data_v2.csv\n",
      "/kaggle/input/e-commerce-shoppers-behaviour-understanding/train_data_v2.csv\n",
      "/kaggle/input/e-commerce-shoppers-behaviour-understanding/sample.csv\n"
     ]
    }
   ],
   "source": [
    "# This Python 3 environment comes with many helpful analytics libraries installed\n",
    "# It is defined by the kaggle/python Docker image: https://github.com/kaggle/docker-python\n",
    "# For example, here's several helpful packages to load\n",
    "\n",
    "import numpy as np # linear algebra\n",
    "import pandas as pd # data processing, CSV file I/O (e.g. pd.read_csv)\n",
    "\n",
    "# Input data files are available in the read-only \"../input/\" directory\n",
    "# For example, running this (by clicking run or pressing Shift+Enter) will list all files under the input directory\n",
    "\n",
    "import os\n",
    "for dirname, _, filenames in os.walk('/kaggle/input'):\n",
    "    for filename in filenames:\n",
    "        print(os.path.join(dirname, filename))\n",
    "\n",
    "# You can write up to 20GB to the current directory (/kaggle/working/) that gets preserved as output when you create a version using \"Save & Run All\" \n",
    "# You can also write temporary files to /kaggle/temp/, but they won't be saved outside of the current session"
   ]
  },
  {
   "cell_type": "code",
   "execution_count": 2,
   "id": "fd8a7071",
   "metadata": {
    "execution": {
     "iopub.execute_input": "2023-04-01T10:33:58.080939Z",
     "iopub.status.busy": "2023-04-01T10:33:58.080584Z",
     "iopub.status.idle": "2023-04-01T10:33:58.219005Z",
     "shell.execute_reply": "2023-04-01T10:33:58.217820Z"
    },
    "papermill": {
     "duration": 0.148034,
     "end_time": "2023-04-01T10:33:58.221290",
     "exception": false,
     "start_time": "2023-04-01T10:33:58.073256",
     "status": "completed"
    },
    "tags": []
   },
   "outputs": [],
   "source": [
    "test = pd.read_csv(\"/kaggle/input/e-commerce-shoppers-behaviour-understanding/test_data_v2.csv\")\n",
    "train = pd.read_csv(\"/kaggle/input/e-commerce-shoppers-behaviour-understanding/train_data_v2.csv\")"
   ]
  },
  {
   "cell_type": "code",
   "execution_count": 3,
   "id": "c0e8c73d",
   "metadata": {
    "execution": {
     "iopub.execute_input": "2023-04-01T10:33:58.236327Z",
     "iopub.status.busy": "2023-04-01T10:33:58.235284Z",
     "iopub.status.idle": "2023-04-01T10:33:58.251310Z",
     "shell.execute_reply": "2023-04-01T10:33:58.250222Z"
    },
    "papermill": {
     "duration": 0.025818,
     "end_time": "2023-04-01T10:33:58.253736",
     "exception": false,
     "start_time": "2023-04-01T10:33:58.227918",
     "status": "completed"
    },
    "tags": []
   },
   "outputs": [],
   "source": [
    "X_train = train.drop('Made_Purchase', axis='columns')\n",
    "Y_train = train['Made_Purchase']\n",
    "\n",
    "X_test=test\n"
   ]
  },
  {
   "cell_type": "code",
   "execution_count": 4,
   "id": "86a3a1a2",
   "metadata": {
    "execution": {
     "iopub.execute_input": "2023-04-01T10:33:58.269502Z",
     "iopub.status.busy": "2023-04-01T10:33:58.268884Z",
     "iopub.status.idle": "2023-04-01T10:33:58.287026Z",
     "shell.execute_reply": "2023-04-01T10:33:58.286028Z"
    },
    "papermill": {
     "duration": 0.029044,
     "end_time": "2023-04-01T10:33:58.289409",
     "exception": false,
     "start_time": "2023-04-01T10:33:58.260365",
     "status": "completed"
    },
    "tags": []
   },
   "outputs": [],
   "source": [
    "import warnings\n",
    "warnings.filterwarnings('ignore')\n",
    "\n",
    "num_imputed = X_train.select_dtypes(include=np.number)\n",
    "cat_imputed = X_train.select_dtypes(include=[\"object\"])\n",
    "\n",
    "test_num_imputed = X_test.select_dtypes(include=np.number)\n",
    "test_cat_imputed = X_test.select_dtypes(include=[\"object\"])"
   ]
  },
  {
   "cell_type": "code",
   "execution_count": 5,
   "id": "de6b1788",
   "metadata": {
    "execution": {
     "iopub.execute_input": "2023-04-01T10:33:58.304525Z",
     "iopub.status.busy": "2023-04-01T10:33:58.303947Z",
     "iopub.status.idle": "2023-04-01T10:34:01.439399Z",
     "shell.execute_reply": "2023-04-01T10:34:01.438730Z"
    },
    "papermill": {
     "duration": 3.145474,
     "end_time": "2023-04-01T10:34:01.441593",
     "exception": false,
     "start_time": "2023-04-01T10:33:58.296119",
     "status": "completed"
    },
    "tags": []
   },
   "outputs": [],
   "source": [
    "from sklearn.impute import SimpleImputer\n",
    "from sklearn.impute import KNNImputer\n",
    "\n",
    "KNN = KNNImputer(n_neighbors=10, missing_values=np.nan)\n",
    "SI = SimpleImputer(missing_values=np.nan,strategy=\"most_frequent\")\n",
    "\n",
    "num_imputed = pd.DataFrame(KNN.fit_transform(num_imputed),columns=num_imputed.columns)\n",
    "cat_imputed = pd.DataFrame(SI.fit_transform(cat_imputed),columns=cat_imputed.columns)\n",
    "\n",
    "test_num_imputed = pd.DataFrame(KNN.transform(test_num_imputed),columns=test_num_imputed.columns)\n",
    "test_cat_imputed = pd.DataFrame(SI.transform(test_cat_imputed),columns=test_cat_imputed.columns)"
   ]
  },
  {
   "cell_type": "code",
   "execution_count": 6,
   "id": "998f2263",
   "metadata": {
    "execution": {
     "iopub.execute_input": "2023-04-01T10:34:01.457401Z",
     "iopub.status.busy": "2023-04-01T10:34:01.456866Z",
     "iopub.status.idle": "2023-04-01T10:34:01.471369Z",
     "shell.execute_reply": "2023-04-01T10:34:01.470089Z"
    },
    "papermill": {
     "duration": 0.024435,
     "end_time": "2023-04-01T10:34:01.473685",
     "exception": false,
     "start_time": "2023-04-01T10:34:01.449250",
     "status": "completed"
    },
    "tags": []
   },
   "outputs": [],
   "source": [
    "for col in ['OS', 'SearchEngine','Zone', 'Type of Traffic']:\n",
    "    num_imputed[col] = num_imputed[col].astype('object')\n",
    "    \n",
    "    \n",
    "for col in ['OS', 'SearchEngine','Zone', 'Type of Traffic']:\n",
    "    test_num_imputed[col] = test_num_imputed[col].astype('object')\n",
    "\n",
    "train_encoded_cat_col=num_imputed.iloc[:,10:14]\n",
    "\n",
    "test_encoded_cat_col=test_num_imputed.iloc[:,10:14]"
   ]
  },
  {
   "cell_type": "code",
   "execution_count": 7,
   "id": "3a0c65a4",
   "metadata": {
    "execution": {
     "iopub.execute_input": "2023-04-01T10:34:01.488971Z",
     "iopub.status.busy": "2023-04-01T10:34:01.488544Z",
     "iopub.status.idle": "2023-04-01T10:34:01.498232Z",
     "shell.execute_reply": "2023-04-01T10:34:01.497033Z"
    },
    "papermill": {
     "duration": 0.020384,
     "end_time": "2023-04-01T10:34:01.500737",
     "exception": false,
     "start_time": "2023-04-01T10:34:01.480353",
     "status": "completed"
    },
    "tags": []
   },
   "outputs": [],
   "source": [
    "num_imputed = num_imputed.drop([\"OS\",\"SearchEngine\",'Zone',\"Type of Traffic\"],axis='columns')\n",
    "test_num_imputed = test_num_imputed.drop([\"OS\",\"SearchEngine\",'Zone',\"Type of Traffic\"],axis='columns')"
   ]
  },
  {
   "cell_type": "code",
   "execution_count": 8,
   "id": "ddb692ea",
   "metadata": {
    "execution": {
     "iopub.execute_input": "2023-04-01T10:34:01.515635Z",
     "iopub.status.busy": "2023-04-01T10:34:01.515258Z",
     "iopub.status.idle": "2023-04-01T10:34:01.529776Z",
     "shell.execute_reply": "2023-04-01T10:34:01.528402Z"
    },
    "papermill": {
     "duration": 0.024856,
     "end_time": "2023-04-01T10:34:01.532357",
     "exception": false,
     "start_time": "2023-04-01T10:34:01.507501",
     "status": "completed"
    },
    "tags": []
   },
   "outputs": [],
   "source": [
    "from sklearn.preprocessing import MaxAbsScaler\n",
    "MAS=MaxAbsScaler()\n",
    "\n",
    "MAS.fit(num_imputed)\n",
    "num_scaled = pd.DataFrame(MAS.transform(num_imputed),columns=num_imputed.columns)\n",
    "test_num_scaled=pd.DataFrame(MAS.transform(test_num_imputed),columns=test_num_imputed.columns)\n",
    "\n",
    "\n",
    "train_num=pd.concat((train_encoded_cat_col,num_scaled),axis=1,join=\"inner\")\n",
    "test_num=pd.concat((test_encoded_cat_col,test_num_scaled),axis=1,join=\"inner\")"
   ]
  },
  {
   "cell_type": "code",
   "execution_count": 9,
   "id": "f49a1405",
   "metadata": {
    "execution": {
     "iopub.execute_input": "2023-04-01T10:34:01.547587Z",
     "iopub.status.busy": "2023-04-01T10:34:01.546610Z",
     "iopub.status.idle": "2023-04-01T10:34:01.559463Z",
     "shell.execute_reply": "2023-04-01T10:34:01.558268Z"
    },
    "papermill": {
     "duration": 0.022891,
     "end_time": "2023-04-01T10:34:01.561914",
     "exception": false,
     "start_time": "2023-04-01T10:34:01.539023",
     "status": "completed"
    },
    "tags": []
   },
   "outputs": [],
   "source": [
    "for cols in ['OS', 'SearchEngine','Zone', 'Type of Traffic']:\n",
    "    train_num[cols] = train_num[cols].astype('float64')\n",
    "    \n",
    "    \n",
    "for cols in ['OS', 'SearchEngine','Zone', 'Type of Traffic']:\n",
    "    test_num[cols] = test_num[cols].astype('float64')\n"
   ]
  },
  {
   "cell_type": "code",
   "execution_count": 10,
   "id": "1f86fcc2",
   "metadata": {
    "execution": {
     "iopub.execute_input": "2023-04-01T10:34:01.576238Z",
     "iopub.status.busy": "2023-04-01T10:34:01.575910Z",
     "iopub.status.idle": "2023-04-01T10:34:01.582397Z",
     "shell.execute_reply": "2023-04-01T10:34:01.581692Z"
    },
    "papermill": {
     "duration": 0.015736,
     "end_time": "2023-04-01T10:34:01.584198",
     "exception": false,
     "start_time": "2023-04-01T10:34:01.568462",
     "status": "completed"
    },
    "tags": []
   },
   "outputs": [],
   "source": [
    "X_train=pd.concat((train_num,cat_imputed),axis=1,join=\"inner\")\n",
    "X_test=pd.concat((test_num,test_cat_imputed),axis=1,join=\"inner\")"
   ]
  },
  {
   "cell_type": "code",
   "execution_count": 11,
   "id": "3550beed",
   "metadata": {
    "execution": {
     "iopub.execute_input": "2023-04-01T10:34:01.599236Z",
     "iopub.status.busy": "2023-04-01T10:34:01.598307Z",
     "iopub.status.idle": "2023-04-01T10:34:01.629731Z",
     "shell.execute_reply": "2023-04-01T10:34:01.628293Z"
    },
    "papermill": {
     "duration": 0.041239,
     "end_time": "2023-04-01T10:34:01.632134",
     "exception": false,
     "start_time": "2023-04-01T10:34:01.590895",
     "status": "completed"
    },
    "tags": []
   },
   "outputs": [
    {
     "name": "stdout",
     "output_type": "stream",
     "text": [
      "['Month_SeasonalPurchase', 'CustomerType', 'Gender', 'Cookies Setting', 'Education', 'Marital Status']\n"
     ]
    }
   ],
   "source": [
    "from sklearn.preprocessing import LabelEncoder\n",
    "\n",
    "import warnings\n",
    "warnings.filterwarnings('ignore')\n",
    "\n",
    "LE = LabelEncoder()\n",
    "\n",
    "object_col = X_train.select_dtypes(include=np.object).columns.tolist()\n",
    "print(object_col)\n",
    "# Encode labels in column 'species'.\n",
    "for col in object_col:\n",
    "    X_train[col] = LE.fit_transform(X_train[col])\n",
    "    "
   ]
  },
  {
   "cell_type": "code",
   "execution_count": 12,
   "id": "7c6c0918",
   "metadata": {
    "execution": {
     "iopub.execute_input": "2023-04-01T10:34:01.646967Z",
     "iopub.status.busy": "2023-04-01T10:34:01.646551Z",
     "iopub.status.idle": "2023-04-01T10:34:01.667763Z",
     "shell.execute_reply": "2023-04-01T10:34:01.666757Z"
    },
    "papermill": {
     "duration": 0.030553,
     "end_time": "2023-04-01T10:34:01.669539",
     "exception": false,
     "start_time": "2023-04-01T10:34:01.638986",
     "status": "completed"
    },
    "tags": []
   },
   "outputs": [
    {
     "name": "stdout",
     "output_type": "stream",
     "text": [
      "['Month_SeasonalPurchase', 'CustomerType', 'Gender', 'Cookies Setting', 'Education', 'Marital Status']\n"
     ]
    }
   ],
   "source": [
    "import warnings\n",
    "warnings.filterwarnings('ignore')\n",
    "\n",
    "object_col = X_test.select_dtypes(include=np.object).columns.tolist()\n",
    "print(object_col)\n",
    "# Encode labels in column 'species'.\n",
    "for col in object_col:\n",
    "    X_test[col] = LE.fit_transform(X_test[col])\n"
   ]
  },
  {
   "cell_type": "code",
   "execution_count": 13,
   "id": "1fec38b8",
   "metadata": {
    "execution": {
     "iopub.execute_input": "2023-04-01T10:34:01.684623Z",
     "iopub.status.busy": "2023-04-01T10:34:01.684202Z",
     "iopub.status.idle": "2023-04-01T10:34:01.720597Z",
     "shell.execute_reply": "2023-04-01T10:34:01.719364Z"
    },
    "papermill": {
     "duration": 0.046764,
     "end_time": "2023-04-01T10:34:01.723099",
     "exception": false,
     "start_time": "2023-04-01T10:34:01.676335",
     "status": "completed"
    },
    "tags": []
   },
   "outputs": [
    {
     "data": {
      "text/html": [
       "<div>\n",
       "<style scoped>\n",
       "    .dataframe tbody tr th:only-of-type {\n",
       "        vertical-align: middle;\n",
       "    }\n",
       "\n",
       "    .dataframe tbody tr th {\n",
       "        vertical-align: top;\n",
       "    }\n",
       "\n",
       "    .dataframe thead th {\n",
       "        text-align: right;\n",
       "    }\n",
       "</style>\n",
       "<table border=\"1\" class=\"dataframe\">\n",
       "  <thead>\n",
       "    <tr style=\"text-align: right;\">\n",
       "      <th></th>\n",
       "      <th>OS</th>\n",
       "      <th>SearchEngine</th>\n",
       "      <th>Zone</th>\n",
       "      <th>Type of Traffic</th>\n",
       "      <th>HomePage</th>\n",
       "      <th>HomePage_Duration</th>\n",
       "      <th>LandingPage</th>\n",
       "      <th>LandingPage_Duration</th>\n",
       "      <th>ProductDescriptionPage</th>\n",
       "      <th>ProductDescriptionPage_Duration</th>\n",
       "      <th>...</th>\n",
       "      <th>GoogleMetric:Exit Rates</th>\n",
       "      <th>GoogleMetric:Page Values</th>\n",
       "      <th>SeasonalPurchase</th>\n",
       "      <th>WeekendPurchase</th>\n",
       "      <th>Month_SeasonalPurchase</th>\n",
       "      <th>CustomerType</th>\n",
       "      <th>Gender</th>\n",
       "      <th>Cookies Setting</th>\n",
       "      <th>Education</th>\n",
       "      <th>Marital Status</th>\n",
       "    </tr>\n",
       "  </thead>\n",
       "  <tbody>\n",
       "    <tr>\n",
       "      <th>0</th>\n",
       "      <td>4.0</td>\n",
       "      <td>1.0</td>\n",
       "      <td>9.0</td>\n",
       "      <td>3.0</td>\n",
       "      <td>0.000000</td>\n",
       "      <td>0.000000</td>\n",
       "      <td>0.000000</td>\n",
       "      <td>0.000000</td>\n",
       "      <td>0.001418</td>\n",
       "      <td>0.000000</td>\n",
       "      <td>...</td>\n",
       "      <td>1.000000</td>\n",
       "      <td>0.0</td>\n",
       "      <td>0.0</td>\n",
       "      <td>0.0</td>\n",
       "      <td>2</td>\n",
       "      <td>2</td>\n",
       "      <td>2</td>\n",
       "      <td>1</td>\n",
       "      <td>2</td>\n",
       "      <td>1</td>\n",
       "    </tr>\n",
       "    <tr>\n",
       "      <th>1</th>\n",
       "      <td>3.0</td>\n",
       "      <td>2.0</td>\n",
       "      <td>2.0</td>\n",
       "      <td>4.0</td>\n",
       "      <td>0.000000</td>\n",
       "      <td>0.000000</td>\n",
       "      <td>0.000000</td>\n",
       "      <td>0.000000</td>\n",
       "      <td>0.002837</td>\n",
       "      <td>0.000042</td>\n",
       "      <td>...</td>\n",
       "      <td>0.700000</td>\n",
       "      <td>0.0</td>\n",
       "      <td>0.0</td>\n",
       "      <td>0.0</td>\n",
       "      <td>2</td>\n",
       "      <td>2</td>\n",
       "      <td>0</td>\n",
       "      <td>1</td>\n",
       "      <td>3</td>\n",
       "      <td>0</td>\n",
       "    </tr>\n",
       "    <tr>\n",
       "      <th>2</th>\n",
       "      <td>3.0</td>\n",
       "      <td>3.0</td>\n",
       "      <td>1.0</td>\n",
       "      <td>4.0</td>\n",
       "      <td>0.000000</td>\n",
       "      <td>0.000000</td>\n",
       "      <td>0.000000</td>\n",
       "      <td>0.000000</td>\n",
       "      <td>0.014184</td>\n",
       "      <td>0.009809</td>\n",
       "      <td>...</td>\n",
       "      <td>0.250000</td>\n",
       "      <td>0.0</td>\n",
       "      <td>0.0</td>\n",
       "      <td>1.0</td>\n",
       "      <td>2</td>\n",
       "      <td>2</td>\n",
       "      <td>0</td>\n",
       "      <td>0</td>\n",
       "      <td>3</td>\n",
       "      <td>0</td>\n",
       "    </tr>\n",
       "    <tr>\n",
       "      <th>3</th>\n",
       "      <td>2.0</td>\n",
       "      <td>4.0</td>\n",
       "      <td>3.0</td>\n",
       "      <td>3.0</td>\n",
       "      <td>0.000000</td>\n",
       "      <td>0.000000</td>\n",
       "      <td>0.000000</td>\n",
       "      <td>0.000000</td>\n",
       "      <td>0.001418</td>\n",
       "      <td>0.000000</td>\n",
       "      <td>...</td>\n",
       "      <td>1.000000</td>\n",
       "      <td>0.0</td>\n",
       "      <td>0.4</td>\n",
       "      <td>0.0</td>\n",
       "      <td>2</td>\n",
       "      <td>2</td>\n",
       "      <td>1</td>\n",
       "      <td>0</td>\n",
       "      <td>0</td>\n",
       "      <td>2</td>\n",
       "    </tr>\n",
       "    <tr>\n",
       "      <th>4</th>\n",
       "      <td>1.0</td>\n",
       "      <td>2.0</td>\n",
       "      <td>1.0</td>\n",
       "      <td>5.0</td>\n",
       "      <td>0.037037</td>\n",
       "      <td>0.000000</td>\n",
       "      <td>0.000000</td>\n",
       "      <td>0.000000</td>\n",
       "      <td>0.000000</td>\n",
       "      <td>0.000000</td>\n",
       "      <td>...</td>\n",
       "      <td>1.000000</td>\n",
       "      <td>0.0</td>\n",
       "      <td>0.0</td>\n",
       "      <td>1.0</td>\n",
       "      <td>2</td>\n",
       "      <td>2</td>\n",
       "      <td>1</td>\n",
       "      <td>1</td>\n",
       "      <td>0</td>\n",
       "      <td>1</td>\n",
       "    </tr>\n",
       "    <tr>\n",
       "      <th>...</th>\n",
       "      <td>...</td>\n",
       "      <td>...</td>\n",
       "      <td>...</td>\n",
       "      <td>...</td>\n",
       "      <td>...</td>\n",
       "      <td>...</td>\n",
       "      <td>...</td>\n",
       "      <td>...</td>\n",
       "      <td>...</td>\n",
       "      <td>...</td>\n",
       "      <td>...</td>\n",
       "      <td>...</td>\n",
       "      <td>...</td>\n",
       "      <td>...</td>\n",
       "      <td>...</td>\n",
       "      <td>...</td>\n",
       "      <td>...</td>\n",
       "      <td>...</td>\n",
       "      <td>...</td>\n",
       "      <td>...</td>\n",
       "      <td>...</td>\n",
       "    </tr>\n",
       "    <tr>\n",
       "      <th>14726</th>\n",
       "      <td>3.0</td>\n",
       "      <td>2.0</td>\n",
       "      <td>6.0</td>\n",
       "      <td>3.0</td>\n",
       "      <td>0.037037</td>\n",
       "      <td>0.001177</td>\n",
       "      <td>0.000000</td>\n",
       "      <td>0.000000</td>\n",
       "      <td>0.055319</td>\n",
       "      <td>0.015368</td>\n",
       "      <td>...</td>\n",
       "      <td>0.087995</td>\n",
       "      <td>0.0</td>\n",
       "      <td>0.0</td>\n",
       "      <td>0.0</td>\n",
       "      <td>7</td>\n",
       "      <td>2</td>\n",
       "      <td>0</td>\n",
       "      <td>1</td>\n",
       "      <td>3</td>\n",
       "      <td>0</td>\n",
       "    </tr>\n",
       "    <tr>\n",
       "      <th>14727</th>\n",
       "      <td>2.0</td>\n",
       "      <td>2.0</td>\n",
       "      <td>2.0</td>\n",
       "      <td>4.0</td>\n",
       "      <td>0.296296</td>\n",
       "      <td>0.034431</td>\n",
       "      <td>0.083333</td>\n",
       "      <td>0.022358</td>\n",
       "      <td>0.015603</td>\n",
       "      <td>0.003953</td>\n",
       "      <td>...</td>\n",
       "      <td>0.055392</td>\n",
       "      <td>0.0</td>\n",
       "      <td>0.0</td>\n",
       "      <td>0.0</td>\n",
       "      <td>6</td>\n",
       "      <td>2</td>\n",
       "      <td>2</td>\n",
       "      <td>0</td>\n",
       "      <td>0</td>\n",
       "      <td>0</td>\n",
       "    </tr>\n",
       "    <tr>\n",
       "      <th>14728</th>\n",
       "      <td>2.0</td>\n",
       "      <td>2.0</td>\n",
       "      <td>4.0</td>\n",
       "      <td>2.0</td>\n",
       "      <td>0.074074</td>\n",
       "      <td>0.022243</td>\n",
       "      <td>0.083333</td>\n",
       "      <td>0.256063</td>\n",
       "      <td>0.014184</td>\n",
       "      <td>0.017877</td>\n",
       "      <td>...</td>\n",
       "      <td>0.116667</td>\n",
       "      <td>0.0</td>\n",
       "      <td>0.0</td>\n",
       "      <td>0.0</td>\n",
       "      <td>0</td>\n",
       "      <td>2</td>\n",
       "      <td>2</td>\n",
       "      <td>2</td>\n",
       "      <td>3</td>\n",
       "      <td>2</td>\n",
       "    </tr>\n",
       "    <tr>\n",
       "      <th>14729</th>\n",
       "      <td>2.0</td>\n",
       "      <td>4.0</td>\n",
       "      <td>4.0</td>\n",
       "      <td>1.0</td>\n",
       "      <td>0.000000</td>\n",
       "      <td>0.000000</td>\n",
       "      <td>0.000000</td>\n",
       "      <td>0.000000</td>\n",
       "      <td>0.008511</td>\n",
       "      <td>0.016522</td>\n",
       "      <td>...</td>\n",
       "      <td>0.166667</td>\n",
       "      <td>0.0</td>\n",
       "      <td>0.0</td>\n",
       "      <td>0.0</td>\n",
       "      <td>5</td>\n",
       "      <td>2</td>\n",
       "      <td>2</td>\n",
       "      <td>2</td>\n",
       "      <td>2</td>\n",
       "      <td>0</td>\n",
       "    </tr>\n",
       "    <tr>\n",
       "      <th>14730</th>\n",
       "      <td>1.0</td>\n",
       "      <td>1.0</td>\n",
       "      <td>3.0</td>\n",
       "      <td>1.0</td>\n",
       "      <td>0.000000</td>\n",
       "      <td>0.000000</td>\n",
       "      <td>0.000000</td>\n",
       "      <td>0.000000</td>\n",
       "      <td>0.029787</td>\n",
       "      <td>0.021457</td>\n",
       "      <td>...</td>\n",
       "      <td>0.178571</td>\n",
       "      <td>0.0</td>\n",
       "      <td>0.0</td>\n",
       "      <td>0.0</td>\n",
       "      <td>5</td>\n",
       "      <td>2</td>\n",
       "      <td>0</td>\n",
       "      <td>0</td>\n",
       "      <td>0</td>\n",
       "      <td>1</td>\n",
       "    </tr>\n",
       "  </tbody>\n",
       "</table>\n",
       "<p>14731 rows × 21 columns</p>\n",
       "</div>"
      ],
      "text/plain": [
       "        OS  SearchEngine  Zone  Type of Traffic  HomePage  HomePage_Duration  \\\n",
       "0      4.0           1.0   9.0              3.0  0.000000           0.000000   \n",
       "1      3.0           2.0   2.0              4.0  0.000000           0.000000   \n",
       "2      3.0           3.0   1.0              4.0  0.000000           0.000000   \n",
       "3      2.0           4.0   3.0              3.0  0.000000           0.000000   \n",
       "4      1.0           2.0   1.0              5.0  0.037037           0.000000   \n",
       "...    ...           ...   ...              ...       ...                ...   \n",
       "14726  3.0           2.0   6.0              3.0  0.037037           0.001177   \n",
       "14727  2.0           2.0   2.0              4.0  0.296296           0.034431   \n",
       "14728  2.0           2.0   4.0              2.0  0.074074           0.022243   \n",
       "14729  2.0           4.0   4.0              1.0  0.000000           0.000000   \n",
       "14730  1.0           1.0   3.0              1.0  0.000000           0.000000   \n",
       "\n",
       "       LandingPage  LandingPage_Duration  ProductDescriptionPage  \\\n",
       "0         0.000000              0.000000                0.001418   \n",
       "1         0.000000              0.000000                0.002837   \n",
       "2         0.000000              0.000000                0.014184   \n",
       "3         0.000000              0.000000                0.001418   \n",
       "4         0.000000              0.000000                0.000000   \n",
       "...            ...                   ...                     ...   \n",
       "14726     0.000000              0.000000                0.055319   \n",
       "14727     0.083333              0.022358                0.015603   \n",
       "14728     0.083333              0.256063                0.014184   \n",
       "14729     0.000000              0.000000                0.008511   \n",
       "14730     0.000000              0.000000                0.029787   \n",
       "\n",
       "       ProductDescriptionPage_Duration  ...  GoogleMetric:Exit Rates  \\\n",
       "0                             0.000000  ...                 1.000000   \n",
       "1                             0.000042  ...                 0.700000   \n",
       "2                             0.009809  ...                 0.250000   \n",
       "3                             0.000000  ...                 1.000000   \n",
       "4                             0.000000  ...                 1.000000   \n",
       "...                                ...  ...                      ...   \n",
       "14726                         0.015368  ...                 0.087995   \n",
       "14727                         0.003953  ...                 0.055392   \n",
       "14728                         0.017877  ...                 0.116667   \n",
       "14729                         0.016522  ...                 0.166667   \n",
       "14730                         0.021457  ...                 0.178571   \n",
       "\n",
       "       GoogleMetric:Page Values  SeasonalPurchase  WeekendPurchase  \\\n",
       "0                           0.0               0.0              0.0   \n",
       "1                           0.0               0.0              0.0   \n",
       "2                           0.0               0.0              1.0   \n",
       "3                           0.0               0.4              0.0   \n",
       "4                           0.0               0.0              1.0   \n",
       "...                         ...               ...              ...   \n",
       "14726                       0.0               0.0              0.0   \n",
       "14727                       0.0               0.0              0.0   \n",
       "14728                       0.0               0.0              0.0   \n",
       "14729                       0.0               0.0              0.0   \n",
       "14730                       0.0               0.0              0.0   \n",
       "\n",
       "       Month_SeasonalPurchase  CustomerType  Gender  Cookies Setting  \\\n",
       "0                           2             2       2                1   \n",
       "1                           2             2       0                1   \n",
       "2                           2             2       0                0   \n",
       "3                           2             2       1                0   \n",
       "4                           2             2       1                1   \n",
       "...                       ...           ...     ...              ...   \n",
       "14726                       7             2       0                1   \n",
       "14727                       6             2       2                0   \n",
       "14728                       0             2       2                2   \n",
       "14729                       5             2       2                2   \n",
       "14730                       5             2       0                0   \n",
       "\n",
       "       Education  Marital Status  \n",
       "0              2               1  \n",
       "1              3               0  \n",
       "2              3               0  \n",
       "3              0               2  \n",
       "4              0               1  \n",
       "...          ...             ...  \n",
       "14726          3               0  \n",
       "14727          0               0  \n",
       "14728          3               2  \n",
       "14729          2               0  \n",
       "14730          0               1  \n",
       "\n",
       "[14731 rows x 21 columns]"
      ]
     },
     "execution_count": 13,
     "metadata": {},
     "output_type": "execute_result"
    }
   ],
   "source": [
    "X_train"
   ]
  },
  {
   "cell_type": "code",
   "execution_count": 14,
   "id": "f7400e74",
   "metadata": {
    "execution": {
     "iopub.execute_input": "2023-04-01T10:34:01.739175Z",
     "iopub.status.busy": "2023-04-01T10:34:01.738811Z",
     "iopub.status.idle": "2023-04-01T10:34:01.747162Z",
     "shell.execute_reply": "2023-04-01T10:34:01.746150Z"
    },
    "papermill": {
     "duration": 0.019249,
     "end_time": "2023-04-01T10:34:01.749622",
     "exception": false,
     "start_time": "2023-04-01T10:34:01.730373",
     "status": "completed"
    },
    "tags": []
   },
   "outputs": [
    {
     "data": {
      "text/plain": [
       "0        False\n",
       "1        False\n",
       "2        False\n",
       "3        False\n",
       "4        False\n",
       "         ...  \n",
       "14726     True\n",
       "14727     True\n",
       "14728     True\n",
       "14729     True\n",
       "14730     True\n",
       "Name: Made_Purchase, Length: 14731, dtype: bool"
      ]
     },
     "execution_count": 14,
     "metadata": {},
     "output_type": "execute_result"
    }
   ],
   "source": [
    "Y_train"
   ]
  },
  {
   "cell_type": "code",
   "execution_count": 15,
   "id": "832a2081",
   "metadata": {
    "execution": {
     "iopub.execute_input": "2023-04-01T10:34:01.766074Z",
     "iopub.status.busy": "2023-04-01T10:34:01.765737Z",
     "iopub.status.idle": "2023-04-01T10:34:01.794470Z",
     "shell.execute_reply": "2023-04-01T10:34:01.793230Z"
    },
    "papermill": {
     "duration": 0.040361,
     "end_time": "2023-04-01T10:34:01.797322",
     "exception": false,
     "start_time": "2023-04-01T10:34:01.756961",
     "status": "completed"
    },
    "tags": []
   },
   "outputs": [
    {
     "data": {
      "text/html": [
       "<div>\n",
       "<style scoped>\n",
       "    .dataframe tbody tr th:only-of-type {\n",
       "        vertical-align: middle;\n",
       "    }\n",
       "\n",
       "    .dataframe tbody tr th {\n",
       "        vertical-align: top;\n",
       "    }\n",
       "\n",
       "    .dataframe thead th {\n",
       "        text-align: right;\n",
       "    }\n",
       "</style>\n",
       "<table border=\"1\" class=\"dataframe\">\n",
       "  <thead>\n",
       "    <tr style=\"text-align: right;\">\n",
       "      <th></th>\n",
       "      <th>OS</th>\n",
       "      <th>SearchEngine</th>\n",
       "      <th>Zone</th>\n",
       "      <th>Type of Traffic</th>\n",
       "      <th>HomePage</th>\n",
       "      <th>HomePage_Duration</th>\n",
       "      <th>LandingPage</th>\n",
       "      <th>LandingPage_Duration</th>\n",
       "      <th>ProductDescriptionPage</th>\n",
       "      <th>ProductDescriptionPage_Duration</th>\n",
       "      <th>...</th>\n",
       "      <th>GoogleMetric:Exit Rates</th>\n",
       "      <th>GoogleMetric:Page Values</th>\n",
       "      <th>SeasonalPurchase</th>\n",
       "      <th>WeekendPurchase</th>\n",
       "      <th>Month_SeasonalPurchase</th>\n",
       "      <th>CustomerType</th>\n",
       "      <th>Gender</th>\n",
       "      <th>Cookies Setting</th>\n",
       "      <th>Education</th>\n",
       "      <th>Marital Status</th>\n",
       "    </tr>\n",
       "  </thead>\n",
       "  <tbody>\n",
       "    <tr>\n",
       "      <th>0</th>\n",
       "      <td>1.0</td>\n",
       "      <td>1.0</td>\n",
       "      <td>1.0</td>\n",
       "      <td>1.0</td>\n",
       "      <td>0.000000</td>\n",
       "      <td>0.000000</td>\n",
       "      <td>0.000000</td>\n",
       "      <td>0.000000</td>\n",
       "      <td>0.001418</td>\n",
       "      <td>0.000000</td>\n",
       "      <td>...</td>\n",
       "      <td>1.000000</td>\n",
       "      <td>0.0</td>\n",
       "      <td>0.0</td>\n",
       "      <td>0.0</td>\n",
       "      <td>2</td>\n",
       "      <td>2</td>\n",
       "      <td>2</td>\n",
       "      <td>1</td>\n",
       "      <td>2</td>\n",
       "      <td>2</td>\n",
       "    </tr>\n",
       "    <tr>\n",
       "      <th>1</th>\n",
       "      <td>2.0</td>\n",
       "      <td>2.0</td>\n",
       "      <td>1.0</td>\n",
       "      <td>2.0</td>\n",
       "      <td>0.000000</td>\n",
       "      <td>0.000000</td>\n",
       "      <td>0.000000</td>\n",
       "      <td>0.000000</td>\n",
       "      <td>0.002837</td>\n",
       "      <td>0.001000</td>\n",
       "      <td>...</td>\n",
       "      <td>0.500000</td>\n",
       "      <td>0.0</td>\n",
       "      <td>0.0</td>\n",
       "      <td>0.0</td>\n",
       "      <td>2</td>\n",
       "      <td>2</td>\n",
       "      <td>2</td>\n",
       "      <td>0</td>\n",
       "      <td>1</td>\n",
       "      <td>0</td>\n",
       "    </tr>\n",
       "    <tr>\n",
       "      <th>2</th>\n",
       "      <td>2.0</td>\n",
       "      <td>2.0</td>\n",
       "      <td>1.0</td>\n",
       "      <td>3.0</td>\n",
       "      <td>0.000000</td>\n",
       "      <td>0.000000</td>\n",
       "      <td>0.000000</td>\n",
       "      <td>0.000000</td>\n",
       "      <td>0.026950</td>\n",
       "      <td>0.002411</td>\n",
       "      <td>...</td>\n",
       "      <td>0.122807</td>\n",
       "      <td>0.0</td>\n",
       "      <td>0.0</td>\n",
       "      <td>0.0</td>\n",
       "      <td>2</td>\n",
       "      <td>2</td>\n",
       "      <td>0</td>\n",
       "      <td>2</td>\n",
       "      <td>0</td>\n",
       "      <td>1</td>\n",
       "    </tr>\n",
       "    <tr>\n",
       "      <th>3</th>\n",
       "      <td>2.0</td>\n",
       "      <td>2.0</td>\n",
       "      <td>2.0</td>\n",
       "      <td>3.0</td>\n",
       "      <td>0.000000</td>\n",
       "      <td>0.000000</td>\n",
       "      <td>0.000000</td>\n",
       "      <td>0.000000</td>\n",
       "      <td>0.002837</td>\n",
       "      <td>0.000578</td>\n",
       "      <td>...</td>\n",
       "      <td>0.500000</td>\n",
       "      <td>0.0</td>\n",
       "      <td>0.8</td>\n",
       "      <td>0.0</td>\n",
       "      <td>2</td>\n",
       "      <td>2</td>\n",
       "      <td>2</td>\n",
       "      <td>2</td>\n",
       "      <td>1</td>\n",
       "      <td>1</td>\n",
       "    </tr>\n",
       "    <tr>\n",
       "      <th>4</th>\n",
       "      <td>1.0</td>\n",
       "      <td>1.0</td>\n",
       "      <td>4.0</td>\n",
       "      <td>3.0</td>\n",
       "      <td>0.000000</td>\n",
       "      <td>0.000000</td>\n",
       "      <td>0.000000</td>\n",
       "      <td>0.000000</td>\n",
       "      <td>0.022695</td>\n",
       "      <td>0.006374</td>\n",
       "      <td>...</td>\n",
       "      <td>0.129167</td>\n",
       "      <td>0.0</td>\n",
       "      <td>0.4</td>\n",
       "      <td>0.0</td>\n",
       "      <td>2</td>\n",
       "      <td>2</td>\n",
       "      <td>0</td>\n",
       "      <td>1</td>\n",
       "      <td>3</td>\n",
       "      <td>1</td>\n",
       "    </tr>\n",
       "    <tr>\n",
       "      <th>...</th>\n",
       "      <td>...</td>\n",
       "      <td>...</td>\n",
       "      <td>...</td>\n",
       "      <td>...</td>\n",
       "      <td>...</td>\n",
       "      <td>...</td>\n",
       "      <td>...</td>\n",
       "      <td>...</td>\n",
       "      <td>...</td>\n",
       "      <td>...</td>\n",
       "      <td>...</td>\n",
       "      <td>...</td>\n",
       "      <td>...</td>\n",
       "      <td>...</td>\n",
       "      <td>...</td>\n",
       "      <td>...</td>\n",
       "      <td>...</td>\n",
       "      <td>...</td>\n",
       "      <td>...</td>\n",
       "      <td>...</td>\n",
       "      <td>...</td>\n",
       "    </tr>\n",
       "    <tr>\n",
       "      <th>6594</th>\n",
       "      <td>4.0</td>\n",
       "      <td>1.0</td>\n",
       "      <td>1.0</td>\n",
       "      <td>5.0</td>\n",
       "      <td>0.000000</td>\n",
       "      <td>0.000000</td>\n",
       "      <td>0.000000</td>\n",
       "      <td>0.000000</td>\n",
       "      <td>0.009929</td>\n",
       "      <td>0.003251</td>\n",
       "      <td>...</td>\n",
       "      <td>0.142857</td>\n",
       "      <td>0.0</td>\n",
       "      <td>0.0</td>\n",
       "      <td>1.0</td>\n",
       "      <td>2</td>\n",
       "      <td>2</td>\n",
       "      <td>2</td>\n",
       "      <td>2</td>\n",
       "      <td>1</td>\n",
       "      <td>1</td>\n",
       "    </tr>\n",
       "    <tr>\n",
       "      <th>6595</th>\n",
       "      <td>2.0</td>\n",
       "      <td>4.0</td>\n",
       "      <td>9.0</td>\n",
       "      <td>11.0</td>\n",
       "      <td>0.000000</td>\n",
       "      <td>0.000000</td>\n",
       "      <td>0.125000</td>\n",
       "      <td>0.017259</td>\n",
       "      <td>0.253901</td>\n",
       "      <td>0.027175</td>\n",
       "      <td>...</td>\n",
       "      <td>0.129988</td>\n",
       "      <td>0.0</td>\n",
       "      <td>0.0</td>\n",
       "      <td>0.0</td>\n",
       "      <td>0</td>\n",
       "      <td>2</td>\n",
       "      <td>1</td>\n",
       "      <td>2</td>\n",
       "      <td>2</td>\n",
       "      <td>1</td>\n",
       "    </tr>\n",
       "    <tr>\n",
       "      <th>6596</th>\n",
       "      <td>8.0</td>\n",
       "      <td>5.0</td>\n",
       "      <td>1.0</td>\n",
       "      <td>2.0</td>\n",
       "      <td>0.185185</td>\n",
       "      <td>0.029177</td>\n",
       "      <td>0.041667</td>\n",
       "      <td>0.010591</td>\n",
       "      <td>0.046809</td>\n",
       "      <td>0.014438</td>\n",
       "      <td>...</td>\n",
       "      <td>0.045635</td>\n",
       "      <td>0.0</td>\n",
       "      <td>0.6</td>\n",
       "      <td>0.0</td>\n",
       "      <td>6</td>\n",
       "      <td>2</td>\n",
       "      <td>0</td>\n",
       "      <td>2</td>\n",
       "      <td>1</td>\n",
       "      <td>0</td>\n",
       "    </tr>\n",
       "    <tr>\n",
       "      <th>6597</th>\n",
       "      <td>2.0</td>\n",
       "      <td>2.0</td>\n",
       "      <td>2.0</td>\n",
       "      <td>3.0</td>\n",
       "      <td>0.000000</td>\n",
       "      <td>0.000000</td>\n",
       "      <td>0.000000</td>\n",
       "      <td>0.000000</td>\n",
       "      <td>0.004255</td>\n",
       "      <td>0.000141</td>\n",
       "      <td>...</td>\n",
       "      <td>0.666667</td>\n",
       "      <td>0.0</td>\n",
       "      <td>0.0</td>\n",
       "      <td>1.0</td>\n",
       "      <td>6</td>\n",
       "      <td>2</td>\n",
       "      <td>2</td>\n",
       "      <td>1</td>\n",
       "      <td>0</td>\n",
       "      <td>1</td>\n",
       "    </tr>\n",
       "    <tr>\n",
       "      <th>6598</th>\n",
       "      <td>2.0</td>\n",
       "      <td>4.0</td>\n",
       "      <td>3.0</td>\n",
       "      <td>1.0</td>\n",
       "      <td>0.000000</td>\n",
       "      <td>0.000000</td>\n",
       "      <td>0.000000</td>\n",
       "      <td>0.000000</td>\n",
       "      <td>0.008511</td>\n",
       "      <td>0.004893</td>\n",
       "      <td>...</td>\n",
       "      <td>0.250000</td>\n",
       "      <td>0.0</td>\n",
       "      <td>0.0</td>\n",
       "      <td>0.0</td>\n",
       "      <td>6</td>\n",
       "      <td>2</td>\n",
       "      <td>1</td>\n",
       "      <td>2</td>\n",
       "      <td>0</td>\n",
       "      <td>2</td>\n",
       "    </tr>\n",
       "  </tbody>\n",
       "</table>\n",
       "<p>6599 rows × 21 columns</p>\n",
       "</div>"
      ],
      "text/plain": [
       "       OS  SearchEngine  Zone  Type of Traffic  HomePage  HomePage_Duration  \\\n",
       "0     1.0           1.0   1.0              1.0  0.000000           0.000000   \n",
       "1     2.0           2.0   1.0              2.0  0.000000           0.000000   \n",
       "2     2.0           2.0   1.0              3.0  0.000000           0.000000   \n",
       "3     2.0           2.0   2.0              3.0  0.000000           0.000000   \n",
       "4     1.0           1.0   4.0              3.0  0.000000           0.000000   \n",
       "...   ...           ...   ...              ...       ...                ...   \n",
       "6594  4.0           1.0   1.0              5.0  0.000000           0.000000   \n",
       "6595  2.0           4.0   9.0             11.0  0.000000           0.000000   \n",
       "6596  8.0           5.0   1.0              2.0  0.185185           0.029177   \n",
       "6597  2.0           2.0   2.0              3.0  0.000000           0.000000   \n",
       "6598  2.0           4.0   3.0              1.0  0.000000           0.000000   \n",
       "\n",
       "      LandingPage  LandingPage_Duration  ProductDescriptionPage  \\\n",
       "0        0.000000              0.000000                0.001418   \n",
       "1        0.000000              0.000000                0.002837   \n",
       "2        0.000000              0.000000                0.026950   \n",
       "3        0.000000              0.000000                0.002837   \n",
       "4        0.000000              0.000000                0.022695   \n",
       "...           ...                   ...                     ...   \n",
       "6594     0.000000              0.000000                0.009929   \n",
       "6595     0.125000              0.017259                0.253901   \n",
       "6596     0.041667              0.010591                0.046809   \n",
       "6597     0.000000              0.000000                0.004255   \n",
       "6598     0.000000              0.000000                0.008511   \n",
       "\n",
       "      ProductDescriptionPage_Duration  ...  GoogleMetric:Exit Rates  \\\n",
       "0                            0.000000  ...                 1.000000   \n",
       "1                            0.001000  ...                 0.500000   \n",
       "2                            0.002411  ...                 0.122807   \n",
       "3                            0.000578  ...                 0.500000   \n",
       "4                            0.006374  ...                 0.129167   \n",
       "...                               ...  ...                      ...   \n",
       "6594                         0.003251  ...                 0.142857   \n",
       "6595                         0.027175  ...                 0.129988   \n",
       "6596                         0.014438  ...                 0.045635   \n",
       "6597                         0.000141  ...                 0.666667   \n",
       "6598                         0.004893  ...                 0.250000   \n",
       "\n",
       "      GoogleMetric:Page Values  SeasonalPurchase  WeekendPurchase  \\\n",
       "0                          0.0               0.0              0.0   \n",
       "1                          0.0               0.0              0.0   \n",
       "2                          0.0               0.0              0.0   \n",
       "3                          0.0               0.8              0.0   \n",
       "4                          0.0               0.4              0.0   \n",
       "...                        ...               ...              ...   \n",
       "6594                       0.0               0.0              1.0   \n",
       "6595                       0.0               0.0              0.0   \n",
       "6596                       0.0               0.6              0.0   \n",
       "6597                       0.0               0.0              1.0   \n",
       "6598                       0.0               0.0              0.0   \n",
       "\n",
       "      Month_SeasonalPurchase  CustomerType  Gender  Cookies Setting  \\\n",
       "0                          2             2       2                1   \n",
       "1                          2             2       2                0   \n",
       "2                          2             2       0                2   \n",
       "3                          2             2       2                2   \n",
       "4                          2             2       0                1   \n",
       "...                      ...           ...     ...              ...   \n",
       "6594                       2             2       2                2   \n",
       "6595                       0             2       1                2   \n",
       "6596                       6             2       0                2   \n",
       "6597                       6             2       2                1   \n",
       "6598                       6             2       1                2   \n",
       "\n",
       "      Education  Marital Status  \n",
       "0             2               2  \n",
       "1             1               0  \n",
       "2             0               1  \n",
       "3             1               1  \n",
       "4             3               1  \n",
       "...         ...             ...  \n",
       "6594          1               1  \n",
       "6595          2               1  \n",
       "6596          1               0  \n",
       "6597          0               1  \n",
       "6598          0               2  \n",
       "\n",
       "[6599 rows x 21 columns]"
      ]
     },
     "execution_count": 15,
     "metadata": {},
     "output_type": "execute_result"
    }
   ],
   "source": [
    "X_test"
   ]
  },
  {
   "cell_type": "markdown",
   "id": "7934fae4",
   "metadata": {
    "papermill": {
     "duration": 0.007256,
     "end_time": "2023-04-01T10:34:01.812535",
     "exception": false,
     "start_time": "2023-04-01T10:34:01.805279",
     "status": "completed"
    },
    "tags": []
   },
   "source": [
    "**MODEL**"
   ]
  },
  {
   "cell_type": "code",
   "execution_count": 16,
   "id": "4f4db7c4",
   "metadata": {
    "execution": {
     "iopub.execute_input": "2023-04-01T10:34:01.828503Z",
     "iopub.status.busy": "2023-04-01T10:34:01.828172Z",
     "iopub.status.idle": "2023-04-01T10:34:01.838264Z",
     "shell.execute_reply": "2023-04-01T10:34:01.837100Z"
    },
    "papermill": {
     "duration": 0.020976,
     "end_time": "2023-04-01T10:34:01.840795",
     "exception": false,
     "start_time": "2023-04-01T10:34:01.819819",
     "status": "completed"
    },
    "tags": []
   },
   "outputs": [],
   "source": [
    "from sklearn.model_selection import train_test_split\n",
    "x_train,x_test,y_train,y_test=train_test_split(X_train,Y_train,test_size=0.2,random_state=42)"
   ]
  },
  {
   "cell_type": "markdown",
   "id": "56346da1",
   "metadata": {
    "papermill": {
     "duration": 0.007359,
     "end_time": "2023-04-01T10:34:01.855823",
     "exception": false,
     "start_time": "2023-04-01T10:34:01.848464",
     "status": "completed"
    },
    "tags": []
   },
   "source": [
    "**DECISION-TREE**"
   ]
  },
  {
   "cell_type": "code",
   "execution_count": 17,
   "id": "234d8ab6",
   "metadata": {
    "execution": {
     "iopub.execute_input": "2023-04-01T10:34:01.872648Z",
     "iopub.status.busy": "2023-04-01T10:34:01.872100Z",
     "iopub.status.idle": "2023-04-01T10:34:02.083893Z",
     "shell.execute_reply": "2023-04-01T10:34:02.083061Z"
    },
    "papermill": {
     "duration": 0.222909,
     "end_time": "2023-04-01T10:34:02.086186",
     "exception": false,
     "start_time": "2023-04-01T10:34:01.863277",
     "status": "completed"
    },
    "tags": []
   },
   "outputs": [
    {
     "name": "stdout",
     "output_type": "stream",
     "text": [
      "              precision    recall  f1-score   support\n",
      "\n",
      "       False       0.59      0.58      0.58      1885\n",
      "        True       0.28      0.29      0.28      1062\n",
      "\n",
      "    accuracy                           0.47      2947\n",
      "   macro avg       0.43      0.43      0.43      2947\n",
      "weighted avg       0.48      0.47      0.48      2947\n",
      "\n",
      "Accuracy: 0.47268408551068886\n"
     ]
    }
   ],
   "source": [
    "from sklearn.tree import DecisionTreeClassifier\n",
    "from sklearn.metrics import classification_report\n",
    "from sklearn.metrics import accuracy_score\n",
    "\n",
    "DTC=DecisionTreeClassifier()\n",
    "\n",
    "DTC.fit(x_train,y_train)\n",
    "y_pred=DTC.predict(x_test)\n",
    "print(classification_report(y_test,y_pred))\n",
    "print(\"Accuracy:\",accuracy_score(y_test, y_pred))"
   ]
  },
  {
   "cell_type": "markdown",
   "id": "b93cf17b",
   "metadata": {
    "papermill": {
     "duration": 0.007253,
     "end_time": "2023-04-01T10:34:02.101179",
     "exception": false,
     "start_time": "2023-04-01T10:34:02.093926",
     "status": "completed"
    },
    "tags": []
   },
   "source": [
    "**RANDOM-FORREST**"
   ]
  },
  {
   "cell_type": "code",
   "execution_count": 18,
   "id": "9dc60c61",
   "metadata": {
    "execution": {
     "iopub.execute_input": "2023-04-01T10:34:02.117560Z",
     "iopub.status.busy": "2023-04-01T10:34:02.117231Z",
     "iopub.status.idle": "2023-04-01T10:34:04.585826Z",
     "shell.execute_reply": "2023-04-01T10:34:04.584482Z"
    },
    "papermill": {
     "duration": 2.479468,
     "end_time": "2023-04-01T10:34:04.588023",
     "exception": false,
     "start_time": "2023-04-01T10:34:02.108555",
     "status": "completed"
    },
    "tags": []
   },
   "outputs": [
    {
     "name": "stdout",
     "output_type": "stream",
     "text": [
      "Accuracy: 0.5290125551408211\n"
     ]
    }
   ],
   "source": [
    "from sklearn.ensemble import RandomForestClassifier\n",
    "RFC=RandomForestClassifier()\n",
    "RFC.fit(x_train,y_train)\n",
    "y_pred=RFC.predict(x_test)\n",
    "from sklearn.metrics import accuracy_score\n",
    "print(\"Accuracy:\",accuracy_score(y_test, y_pred))\n"
   ]
  },
  {
   "cell_type": "markdown",
   "id": "4fd68fa5",
   "metadata": {
    "papermill": {
     "duration": 0.007135,
     "end_time": "2023-04-01T10:34:04.602922",
     "exception": false,
     "start_time": "2023-04-01T10:34:04.595787",
     "status": "completed"
    },
    "tags": []
   },
   "source": [
    "**LOGISTIC REGRESSION**"
   ]
  },
  {
   "cell_type": "code",
   "execution_count": 19,
   "id": "b6613175",
   "metadata": {
    "execution": {
     "iopub.execute_input": "2023-04-01T10:34:04.619131Z",
     "iopub.status.busy": "2023-04-01T10:34:04.618746Z",
     "iopub.status.idle": "2023-04-01T10:34:04.744958Z",
     "shell.execute_reply": "2023-04-01T10:34:04.744208Z"
    },
    "papermill": {
     "duration": 0.136902,
     "end_time": "2023-04-01T10:34:04.747084",
     "exception": false,
     "start_time": "2023-04-01T10:34:04.610182",
     "status": "completed"
    },
    "tags": []
   },
   "outputs": [
    {
     "name": "stdout",
     "output_type": "stream",
     "text": [
      "              precision    recall  f1-score   support\n",
      "\n",
      "       False       0.67      0.97      0.79      1885\n",
      "        True       0.74      0.17      0.28      1062\n",
      "\n",
      "    accuracy                           0.68      2947\n",
      "   macro avg       0.71      0.57      0.54      2947\n",
      "weighted avg       0.70      0.68      0.61      2947\n",
      "\n",
      "Accuracy: 0.67967424499491\n"
     ]
    }
   ],
   "source": [
    "from sklearn.linear_model import LogisticRegression\n",
    "from sklearn.metrics import classification_report\n",
    "from sklearn.metrics import accuracy_score\n",
    "\n",
    "logreg = LogisticRegression()\n",
    "logreg.fit(x_train, y_train)\n",
    "y_pred=logreg.predict(x_test)\n",
    "print(classification_report(y_test,y_pred))\n",
    "print(\"Accuracy:\",accuracy_score(y_test, y_pred))"
   ]
  },
  {
   "cell_type": "markdown",
   "id": "e37cbbe6",
   "metadata": {
    "papermill": {
     "duration": 0.009168,
     "end_time": "2023-04-01T10:34:04.766136",
     "exception": false,
     "start_time": "2023-04-01T10:34:04.756968",
     "status": "completed"
    },
    "tags": []
   },
   "source": [
    "**ADABOOST**"
   ]
  },
  {
   "cell_type": "code",
   "execution_count": 20,
   "id": "275ecc1f",
   "metadata": {
    "execution": {
     "iopub.execute_input": "2023-04-01T10:34:04.787339Z",
     "iopub.status.busy": "2023-04-01T10:34:04.786425Z",
     "iopub.status.idle": "2023-04-01T10:34:04.791170Z",
     "shell.execute_reply": "2023-04-01T10:34:04.790476Z"
    },
    "papermill": {
     "duration": 0.018485,
     "end_time": "2023-04-01T10:34:04.794237",
     "exception": false,
     "start_time": "2023-04-01T10:34:04.775752",
     "status": "completed"
    },
    "tags": []
   },
   "outputs": [],
   "source": [
    "from sklearn.ensemble import AdaBoostClassifier\n",
    "from sklearn.model_selection import cross_val_score\n",
    "from sklearn.model_selection import GridSearchCV\n",
    "from sklearn.metrics import accuracy_score\n"
   ]
  },
  {
   "cell_type": "code",
   "execution_count": 21,
   "id": "0cf5d0c5",
   "metadata": {
    "execution": {
     "iopub.execute_input": "2023-04-01T10:34:04.815533Z",
     "iopub.status.busy": "2023-04-01T10:34:04.814423Z",
     "iopub.status.idle": "2023-04-01T10:34:04.818760Z",
     "shell.execute_reply": "2023-04-01T10:34:04.817981Z"
    },
    "papermill": {
     "duration": 0.017945,
     "end_time": "2023-04-01T10:34:04.821757",
     "exception": false,
     "start_time": "2023-04-01T10:34:04.803812",
     "status": "completed"
    },
    "tags": []
   },
   "outputs": [],
   "source": [
    "model = AdaBoostClassifier()\n"
   ]
  },
  {
   "cell_type": "code",
   "execution_count": 22,
   "id": "d37fbbed",
   "metadata": {
    "execution": {
     "iopub.execute_input": "2023-04-01T10:34:04.842283Z",
     "iopub.status.busy": "2023-04-01T10:34:04.841514Z",
     "iopub.status.idle": "2023-04-01T10:36:19.810579Z",
     "shell.execute_reply": "2023-04-01T10:36:19.809709Z"
    },
    "papermill": {
     "duration": 134.988836,
     "end_time": "2023-04-01T10:36:19.819948",
     "exception": false,
     "start_time": "2023-04-01T10:34:04.831112",
     "status": "completed"
    },
    "tags": []
   },
   "outputs": [
    {
     "data": {
      "text/plain": [
       "{'learning_rate': 0.0001, 'n_estimators': 100}"
      ]
     },
     "execution_count": 22,
     "metadata": {},
     "output_type": "execute_result"
    }
   ],
   "source": [
    "import warnings\n",
    "warnings.filterwarnings('ignore')\n",
    "\n",
    "parames = {\n",
    "    'n_estimators': [100,200,300],\n",
    "    'learning_rate' : [0.0001, 0.001, 0.01]\n",
    "    }\n",
    "grid_search_ada= GridSearchCV(model, parames , cv=5 , scoring = 'neg_mean_squared_error', return_train_score=True)\n",
    "\n",
    "grid_search_ada.fit(X_train,Y_train)\n",
    "\n",
    "grid_search_ada.best_params_ "
   ]
  },
  {
   "cell_type": "code",
   "execution_count": 23,
   "id": "97a93b2a",
   "metadata": {
    "execution": {
     "iopub.execute_input": "2023-04-01T10:36:19.837594Z",
     "iopub.status.busy": "2023-04-01T10:36:19.837225Z",
     "iopub.status.idle": "2023-04-01T10:36:19.842229Z",
     "shell.execute_reply": "2023-04-01T10:36:19.840842Z"
    },
    "papermill": {
     "duration": 0.016626,
     "end_time": "2023-04-01T10:36:19.844437",
     "exception": false,
     "start_time": "2023-04-01T10:36:19.827811",
     "status": "completed"
    },
    "tags": []
   },
   "outputs": [],
   "source": [
    "model = AdaBoostClassifier(n_estimators=100, learning_rate=0.0001, random_state=0)\n"
   ]
  },
  {
   "cell_type": "code",
   "execution_count": 24,
   "id": "a76ebd58",
   "metadata": {
    "execution": {
     "iopub.execute_input": "2023-04-01T10:36:19.862079Z",
     "iopub.status.busy": "2023-04-01T10:36:19.861759Z",
     "iopub.status.idle": "2023-04-01T10:36:21.230057Z",
     "shell.execute_reply": "2023-04-01T10:36:21.228848Z"
    },
    "papermill": {
     "duration": 1.380357,
     "end_time": "2023-04-01T10:36:21.232893",
     "exception": false,
     "start_time": "2023-04-01T10:36:19.852536",
     "status": "completed"
    },
    "tags": []
   },
   "outputs": [
    {
     "name": "stdout",
     "output_type": "stream",
     "text": [
      "Accuracy: 0.6837461825585341\n"
     ]
    }
   ],
   "source": [
    "model.fit(x_train, y_train)\n",
    "y_pred = model.predict(x_test)\n",
    "print(\"Accuracy:\",accuracy_score(y_test, y_pred))"
   ]
  },
  {
   "cell_type": "code",
   "execution_count": 25,
   "id": "46627ffe",
   "metadata": {
    "execution": {
     "iopub.execute_input": "2023-04-01T10:36:21.251173Z",
     "iopub.status.busy": "2023-04-01T10:36:21.250748Z",
     "iopub.status.idle": "2023-04-01T10:36:22.950550Z",
     "shell.execute_reply": "2023-04-01T10:36:22.949617Z"
    },
    "papermill": {
     "duration": 1.711737,
     "end_time": "2023-04-01T10:36:22.952967",
     "exception": false,
     "start_time": "2023-04-01T10:36:21.241230",
     "status": "completed"
    },
    "tags": []
   },
   "outputs": [
    {
     "data": {
      "text/plain": [
       "array([False, False, False, ..., False, False, False])"
      ]
     },
     "execution_count": 25,
     "metadata": {},
     "output_type": "execute_result"
    }
   ],
   "source": [
    "model.fit(X_train, Y_train)\n",
    "\n",
    "prediction_test = model.predict(X_test)\n",
    "prediction_test"
   ]
  },
  {
   "cell_type": "code",
   "execution_count": 26,
   "id": "b619ba31",
   "metadata": {
    "execution": {
     "iopub.execute_input": "2023-04-01T10:36:22.970327Z",
     "iopub.status.busy": "2023-04-01T10:36:22.969938Z",
     "iopub.status.idle": "2023-04-01T10:36:22.996558Z",
     "shell.execute_reply": "2023-04-01T10:36:22.995990Z"
    },
    "papermill": {
     "duration": 0.037374,
     "end_time": "2023-04-01T10:36:22.998397",
     "exception": false,
     "start_time": "2023-04-01T10:36:22.961023",
     "status": "completed"
    },
    "tags": []
   },
   "outputs": [
    {
     "data": {
      "text/html": [
       "<div>\n",
       "<style scoped>\n",
       "    .dataframe tbody tr th:only-of-type {\n",
       "        vertical-align: middle;\n",
       "    }\n",
       "\n",
       "    .dataframe tbody tr th {\n",
       "        vertical-align: top;\n",
       "    }\n",
       "\n",
       "    .dataframe thead th {\n",
       "        text-align: right;\n",
       "    }\n",
       "</style>\n",
       "<table border=\"1\" class=\"dataframe\">\n",
       "  <thead>\n",
       "    <tr style=\"text-align: right;\">\n",
       "      <th></th>\n",
       "      <th>id</th>\n",
       "      <th>Made_Purchase</th>\n",
       "    </tr>\n",
       "  </thead>\n",
       "  <tbody>\n",
       "    <tr>\n",
       "      <th>0</th>\n",
       "      <td>0</td>\n",
       "      <td>False</td>\n",
       "    </tr>\n",
       "    <tr>\n",
       "      <th>1</th>\n",
       "      <td>1</td>\n",
       "      <td>False</td>\n",
       "    </tr>\n",
       "    <tr>\n",
       "      <th>2</th>\n",
       "      <td>2</td>\n",
       "      <td>False</td>\n",
       "    </tr>\n",
       "    <tr>\n",
       "      <th>3</th>\n",
       "      <td>3</td>\n",
       "      <td>False</td>\n",
       "    </tr>\n",
       "    <tr>\n",
       "      <th>4</th>\n",
       "      <td>4</td>\n",
       "      <td>False</td>\n",
       "    </tr>\n",
       "    <tr>\n",
       "      <th>...</th>\n",
       "      <td>...</td>\n",
       "      <td>...</td>\n",
       "    </tr>\n",
       "    <tr>\n",
       "      <th>6594</th>\n",
       "      <td>6594</td>\n",
       "      <td>False</td>\n",
       "    </tr>\n",
       "    <tr>\n",
       "      <th>6595</th>\n",
       "      <td>6595</td>\n",
       "      <td>False</td>\n",
       "    </tr>\n",
       "    <tr>\n",
       "      <th>6596</th>\n",
       "      <td>6596</td>\n",
       "      <td>False</td>\n",
       "    </tr>\n",
       "    <tr>\n",
       "      <th>6597</th>\n",
       "      <td>6597</td>\n",
       "      <td>False</td>\n",
       "    </tr>\n",
       "    <tr>\n",
       "      <th>6598</th>\n",
       "      <td>6598</td>\n",
       "      <td>False</td>\n",
       "    </tr>\n",
       "  </tbody>\n",
       "</table>\n",
       "<p>6599 rows × 2 columns</p>\n",
       "</div>"
      ],
      "text/plain": [
       "        id  Made_Purchase\n",
       "0        0          False\n",
       "1        1          False\n",
       "2        2          False\n",
       "3        3          False\n",
       "4        4          False\n",
       "...    ...            ...\n",
       "6594  6594          False\n",
       "6595  6595          False\n",
       "6596  6596          False\n",
       "6597  6597          False\n",
       "6598  6598          False\n",
       "\n",
       "[6599 rows x 2 columns]"
      ]
     },
     "execution_count": 26,
     "metadata": {},
     "output_type": "execute_result"
    }
   ],
   "source": [
    "submission=pd.DataFrame(columns=['id', 'Made_Purchase'])\n",
    "submission['id']=[i for i in range(len(prediction_test))]\n",
    "submission[\"Made_Purchase\"]=[i for i in prediction_test]\n",
    "submission.to_csv('submission.csv',index=False)\n",
    "submission"
   ]
  }
 ],
 "metadata": {
  "kernelspec": {
   "display_name": "Python 3",
   "language": "python",
   "name": "python3"
  },
  "language_info": {
   "codemirror_mode": {
    "name": "ipython",
    "version": 3
   },
   "file_extension": ".py",
   "mimetype": "text/x-python",
   "name": "python",
   "nbconvert_exporter": "python",
   "pygments_lexer": "ipython3",
   "version": "3.7.12"
  },
  "papermill": {
   "default_parameters": {},
   "duration": 153.705311,
   "end_time": "2023-04-01T10:36:23.726734",
   "environment_variables": {},
   "exception": null,
   "input_path": "__notebook__.ipynb",
   "output_path": "__notebook__.ipynb",
   "parameters": {},
   "start_time": "2023-04-01T10:33:50.021423",
   "version": "2.3.4"
  }
 },
 "nbformat": 4,
 "nbformat_minor": 5
}
